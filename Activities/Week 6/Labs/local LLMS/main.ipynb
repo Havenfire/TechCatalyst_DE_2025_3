{
 "cells": [
  {
   "cell_type": "code",
   "execution_count": 5,
   "id": "a7770caf",
   "metadata": {},
   "outputs": [
    {
     "name": "stdout",
     "output_type": "stream",
     "text": [
      "Welcome to the Email Writing Assistant!\n",
      "\n"
     ]
    },
    {
     "name": "stdout",
     "output_type": "stream",
     "text": [
      "Email:\n",
      "Subject: I'm Hunger!!!\n",
      "[Verbal response: Here's an example of how we can write this email.](https://your_email-address.com/tiff)\n",
      "\n",
      "Dear [Name],\n",
      "\n",
      "I hope this message finds you well. My name is [Your Name] and I am [your_name]. We met at the last party, and we were discussing our favorite dishes that could be served for dinner tonight.\n",
      "\n",
      "After some conversation, we decided to join a local pizza bar on [your_street/address] where they offer some of the most delicious and fresh-baked pizzas in town.\n",
      "\n",
      "I'd love to learn more about their offerings and discuss how I might be able to join in on the fun! Do you have any special requests or recommendations that would make our experience even better?\n",
      "\n",
      "Thank you so much for considering my request. I really appreciate your support, and I hope we can catch up soon!\n",
      "\n",
      "Best regards, [Your Name]\n"
     ]
    }
   ],
   "source": [
    "from ollama import chat\n",
    "\n",
    "model = 'smollm2:135m'\n",
    "\n",
    "# Function to generate an email\n",
    "def generate_email(subject, recipient_name, additional_info, input_tone, critical_date):\n",
    "    # Step 1: Create the prompt to guide the AI in generating the email\n",
    "    prompt = f\"Write a professional email to {recipient_name} with the subject '{subject}' and '{critical_date}'. Include the following information: {additional_info}\"\n",
    "    \n",
    "    # Step 2: Call the OpenAI API to generate the email\n",
    "    # Hint: Use the 'chat' endpoint to create a completion based on the prompt\n",
    "    response = chat(\n",
    "        model= model, \n",
    "        messages=[\n",
    "            {\"role\": \"system\", \"content\": f\"You are a helpful assistant. Always reply in a {input_tone} tone \"},\n",
    "            {\"role\": \"user\", \"content\": prompt},\n",
    "        ],\n",
    "    )\n",
    "    \n",
    "    # Step 3: Extract and return the generated email content from the API response\n",
    "    return response['message']['content'] # <-- Complete this line to get the email content\n",
    "\n",
    "# Function to start the email writing assistant\n",
    "def email_writing_assistant():\n",
    "    print(\"Welcome to the Email Writing Assistant!\\n\")\n",
    "    \n",
    "    # Step 4: Gather user input for the email subject, recipient name, and additional information\n",
    "    subject = input(\"Subject: \")\n",
    "    recipient_name = input(\"Recipient name: \")\n",
    "    additional_info = input(\"Additional Info: \")\n",
    "    input_tone = input(\"Tone: \")\n",
    "    critical_date = input(\"Critical Date:\")\n",
    "    # Step 5: Call the 'generate_email' function and display the generated email\n",
    "    email = generate_email(subject, recipient_name, additional_info, input_tone, critical_date)\n",
    "    print(f\"Email:\\n{email}\")\n",
    "\n",
    "# Start the email writing assistant\n",
    "email_writing_assistant()\n"
   ]
  },
  {
   "cell_type": "code",
   "execution_count": 7,
   "id": "36bfc4a9",
   "metadata": {},
   "outputs": [
    {
     "name": "stdout",
     "output_type": "stream",
     "text": [
      "Welcome to the Email Writing Assistant!\n",
      "\n",
      "Email:\n",
      "Subject: To: John Doe (John Doe)\n",
      "Dear [John Doe's Name],\n",
      "\n",
      "I hope this message finds you well. \n",
      "\n",
      "It has come to my attention that you are scheduled for a meeting with some colleagues on Monday evening at 2 PM. Please confirm your attendance and availability before we proceed with the preparations. \n",
      "\n",
      "Thank you in advance for your cooperation.\n",
      "\n",
      "Best regards,\n",
      "[Your Name]\n",
      "\n",
      "Feel free to modify this email according to your own preferences or any other relevant details that may be pertinent to your situation.\n"
     ]
    }
   ],
   "source": [
    "email_writing_assistant()"
   ]
  },
  {
   "cell_type": "code",
   "execution_count": null,
   "id": "8b72e8f9",
   "metadata": {},
   "outputs": [],
   "source": []
  }
 ],
 "metadata": {
  "kernelspec": {
   "display_name": "Python 3",
   "language": "python",
   "name": "python3"
  },
  "language_info": {
   "codemirror_mode": {
    "name": "ipython",
    "version": 3
   },
   "file_extension": ".py",
   "mimetype": "text/x-python",
   "name": "python",
   "nbconvert_exporter": "python",
   "pygments_lexer": "ipython3",
   "version": "3.12.1"
  }
 },
 "nbformat": 4,
 "nbformat_minor": 5
}
