{
 "cells": [
  {
   "cell_type": "code",
   "execution_count": 1,
   "id": "93f010e7",
   "metadata": {},
   "outputs": [
    {
     "data": {
      "text/plain": [
       "True"
      ]
     },
     "execution_count": 1,
     "metadata": {},
     "output_type": "execute_result"
    }
   ],
   "source": [
    "import boto3\n",
    "import glob\n",
    "import pandas as pd\n",
    "from dotenv import load_dotenv\n",
    "from IPython.display import display\n",
    "load_dotenv()"
   ]
  },
  {
   "cell_type": "code",
   "execution_count": 2,
   "id": "26c1f12f",
   "metadata": {},
   "outputs": [],
   "source": [
    "comprehend_client = boto3.client('comprehend')"
   ]
  },
  {
   "cell_type": "code",
   "execution_count": 4,
   "id": "b6c1e474",
   "metadata": {},
   "outputs": [],
   "source": [
    "df = pd.read_csv(\"sample.csv\")"
   ]
  },
  {
   "cell_type": "code",
   "execution_count": 5,
   "id": "325033b9",
   "metadata": {},
   "outputs": [
    {
     "data": {
      "text/html": [
       "<div>\n",
       "<style scoped>\n",
       "    .dataframe tbody tr th:only-of-type {\n",
       "        vertical-align: middle;\n",
       "    }\n",
       "\n",
       "    .dataframe tbody tr th {\n",
       "        vertical-align: top;\n",
       "    }\n",
       "\n",
       "    .dataframe thead th {\n",
       "        text-align: right;\n",
       "    }\n",
       "</style>\n",
       "<table border=\"1\" class=\"dataframe\">\n",
       "  <thead>\n",
       "    <tr style=\"text-align: right;\">\n",
       "      <th></th>\n",
       "      <th>textID</th>\n",
       "      <th>text</th>\n",
       "      <th>Time of Tweet</th>\n",
       "      <th>Age of User</th>\n",
       "      <th>Country</th>\n",
       "      <th>Population -2020</th>\n",
       "      <th>Land Area (Km²)</th>\n",
       "      <th>Density (P/Km²)</th>\n",
       "      <th>sentiment</th>\n",
       "    </tr>\n",
       "  </thead>\n",
       "  <tbody>\n",
       "    <tr>\n",
       "      <th>0</th>\n",
       "      <td>910d626cd8</td>\n",
       "      <td>Come on bell, RING. I want to go outside.</td>\n",
       "      <td>noon</td>\n",
       "      <td>60-70</td>\n",
       "      <td>Moldova</td>\n",
       "      <td>4033963</td>\n",
       "      <td>32850.0</td>\n",
       "      <td>123</td>\n",
       "      <td>POSITIVE</td>\n",
       "    </tr>\n",
       "    <tr>\n",
       "      <th>1</th>\n",
       "      <td>8560ce3f2e</td>\n",
       "      <td>Hey</td>\n",
       "      <td>morning</td>\n",
       "      <td>0-20</td>\n",
       "      <td>Bosnia and Herzegovina</td>\n",
       "      <td>3280819</td>\n",
       "      <td>51000.0</td>\n",
       "      <td>64</td>\n",
       "      <td>NEUTRAL</td>\n",
       "    </tr>\n",
       "    <tr>\n",
       "      <th>2</th>\n",
       "      <td>eca4006095</td>\n",
       "      <td>I started X-Slimmer at eight this morning, it`...</td>\n",
       "      <td>morning</td>\n",
       "      <td>46-60</td>\n",
       "      <td>Ukraine</td>\n",
       "      <td>43733762</td>\n",
       "      <td>579320.0</td>\n",
       "      <td>75</td>\n",
       "      <td>NEGATIVE</td>\n",
       "    </tr>\n",
       "    <tr>\n",
       "      <th>3</th>\n",
       "      <td>5b34c6a158</td>\n",
       "      <td>no, i do better with people i don`t know   yo...</td>\n",
       "      <td>noon</td>\n",
       "      <td>60-70</td>\n",
       "      <td>Libya</td>\n",
       "      <td>6871292</td>\n",
       "      <td>1759540.0</td>\n",
       "      <td>4</td>\n",
       "      <td>NEGATIVE</td>\n",
       "    </tr>\n",
       "    <tr>\n",
       "      <th>4</th>\n",
       "      <td>4349a49444</td>\n",
       "      <td>the end when they sing this is me and when th...</td>\n",
       "      <td>noon</td>\n",
       "      <td>60-70</td>\n",
       "      <td>Uruguay</td>\n",
       "      <td>3473730</td>\n",
       "      <td>175020.0</td>\n",
       "      <td>20</td>\n",
       "      <td>POSITIVE</td>\n",
       "    </tr>\n",
       "  </tbody>\n",
       "</table>\n",
       "</div>"
      ],
      "text/plain": [
       "       textID                                               text  \\\n",
       "0  910d626cd8          Come on bell, RING. I want to go outside.   \n",
       "1  8560ce3f2e                                                Hey   \n",
       "2  eca4006095  I started X-Slimmer at eight this morning, it`...   \n",
       "3  5b34c6a158   no, i do better with people i don`t know   yo...   \n",
       "4  4349a49444   the end when they sing this is me and when th...   \n",
       "\n",
       "  Time of Tweet Age of User                 Country  Population -2020  \\\n",
       "0          noon       60-70                 Moldova           4033963   \n",
       "1       morning        0-20  Bosnia and Herzegovina           3280819   \n",
       "2       morning       46-60                 Ukraine          43733762   \n",
       "3          noon       60-70                   Libya           6871292   \n",
       "4          noon       60-70                 Uruguay           3473730   \n",
       "\n",
       "   Land Area (Km²)  Density (P/Km²) sentiment  \n",
       "0          32850.0              123  POSITIVE  \n",
       "1          51000.0               64   NEUTRAL  \n",
       "2         579320.0               75  NEGATIVE  \n",
       "3        1759540.0                4  NEGATIVE  \n",
       "4         175020.0               20  POSITIVE  "
      ]
     },
     "metadata": {},
     "output_type": "display_data"
    }
   ],
   "source": [
    "sentiments = []\n",
    "\n",
    "for i in df['text'].tolist():\n",
    "    response = comprehend_client.detect_sentiment(\n",
    "        Text=i,\n",
    "        LanguageCode='en'\n",
    "    )\n",
    "    sentiments.append(response['Sentiment'])\n",
    "\n",
    "df['sentiment'] = sentiments\n",
    "\n",
    "display(df.head())"
   ]
  },
  {
   "cell_type": "code",
   "execution_count": 15,
   "id": "e2151736",
   "metadata": {},
   "outputs": [
    {
     "data": {
      "image/png": "[encoded data removed]",
      "text/plain": [
       "<Figure size 640x480 with 1 Axes>"
      ]
     },
     "metadata": {},
     "output_type": "display_data"
    }
   ],
   "source": [
    "import matplotlib.pyplot as plt\n",
    "sentiment_counts = df.value_counts(\"sentiment\")\n",
    "sentiment_counts.plot(kind=\"pie\")\n",
    "plt.savefig('sentiment_counts.jpg')\n"
   ]
  },
  {
   "cell_type": "code",
   "execution_count": 16,
   "id": "474f7a48",
   "metadata": {},
   "outputs": [],
   "source": [
    "import awswrangler as wr\n",
    "wr.s3.upload(\n",
    "    local_file=\"sentiment_counts.jpg\",\n",
    "    path=\"s3://techcatalyst-raw/BLAKE/AI/IMAGES_PROCESSED/sentiment_counts.jpg\"\n",
    ")"
   ]
  },
  {
   "cell_type": "code",
   "execution_count": 17,
   "id": "bef17064",
   "metadata": {},
   "outputs": [
    {
     "data": {
      "text/plain": [
       "{'paths': ['s3://techcatalyst-raw/BLAKE/AI/IMAGES_PROCESSED/processed_sentiment_data.parquet'],\n",
       " 'partitions_values': {}}"
      ]
     },
     "execution_count": 17,
     "metadata": {},
     "output_type": "execute_result"
    }
   ],
   "source": [
    "wr.s3.to_parquet(\n",
    "    df=df,\n",
    "    path=\"s3://techcatalyst-raw/BLAKE/AI/IMAGES_PROCESSED/processed_sentiment_data.parquet\"\n",
    ")"
   ]
  }
 ],
 "metadata": {
  "kernelspec": {
   "display_name": "Python 3",
   "language": "python",
   "name": "python3"
  },
  "language_info": {
   "codemirror_mode": {
    "name": "ipython",
    "version": 3
   },
   "file_extension": ".py",
   "mimetype": "text/x-python",
   "name": "python",
   "nbconvert_exporter": "python",
   "pygments_lexer": "ipython3",
   "version": "3.12.1"
  }
 },
 "nbformat": 4,
 "nbformat_minor": 5
}
