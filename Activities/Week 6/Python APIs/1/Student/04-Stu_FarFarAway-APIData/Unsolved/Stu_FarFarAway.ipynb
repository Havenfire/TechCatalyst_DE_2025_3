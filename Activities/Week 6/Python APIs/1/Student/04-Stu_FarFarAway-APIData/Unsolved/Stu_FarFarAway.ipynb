{
 "cells": [
  {
   "cell_type": "code",
   "execution_count": 1,
   "metadata": {},
   "outputs": [],
   "source": [
    "# Dependencies\n",
    "import requests\n",
    "import json"
   ]
  },
  {
   "cell_type": "code",
   "execution_count": 6,
   "metadata": {},
   "outputs": [],
   "source": [
    "# URL for GET requests to retrieve Star Wars character data\n",
    "base_url = \"https://swapi.tech/api/people/\""
   ]
  },
  {
   "cell_type": "code",
   "execution_count": 17,
   "metadata": {},
   "outputs": [
    {
     "name": "stdout",
     "output_type": "stream",
     "text": [
      "https://swapi.tech/api/people/4\n"
     ]
    }
   ],
   "source": [
    "# Create a url with a specific character id\n",
    "character_id = '4'\n",
    "url = base_url + character_id\n",
    "print(url)"
   ]
  },
  {
   "cell_type": "code",
   "execution_count": 18,
   "metadata": {},
   "outputs": [
    {
     "name": "stdout",
     "output_type": "stream",
     "text": [
      "https://swapi.tech/api/people/4\n"
     ]
    }
   ],
   "source": [
    "# Perform a get request for this character\n",
    "response = requests.get(url)\n",
    "print(response.url)"
   ]
  },
  {
   "cell_type": "code",
   "execution_count": 20,
   "metadata": {
    "collapsed": true
   },
   "outputs": [
    {
     "name": "stdout",
     "output_type": "stream",
     "text": [
      "{\n",
      "    \"apiVersion\": \"1.0\",\n",
      "    \"message\": \"ok\",\n",
      "    \"result\": {\n",
      "        \"__v\": 2,\n",
      "        \"_id\": \"5f63a36eee9fd7000499be45\",\n",
      "        \"description\": \"A person within the Star Wars universe\",\n",
      "        \"properties\": {\n",
      "            \"birth_year\": \"41.9BBY\",\n",
      "            \"created\": \"2025-08-05T22:39:15.022Z\",\n",
      "            \"edited\": \"2025-08-05T22:39:15.022Z\",\n",
      "            \"eye_color\": \"yellow\",\n",
      "            \"gender\": \"male\",\n",
      "            \"hair_color\": \"none\",\n",
      "            \"height\": \"202\",\n",
      "            \"homeworld\": \"https://www.swapi.tech/api/planets/1\",\n",
      "            \"mass\": \"136\",\n",
      "            \"name\": \"Darth Vader\",\n",
      "            \"skin_color\": \"white\",\n",
      "            \"url\": \"https://www.swapi.tech/api/people/4\"\n",
      "        },\n",
      "        \"uid\": \"4\"\n",
      "    },\n",
      "    \"social\": {\n",
      "        \"discord\": \"https://discord.gg/zWvA6GPeNG\",\n",
      "        \"github\": \"https://github.com/semperry/swapi/blob/main/CONTRIBUTORS.md\",\n",
      "        \"reddit\": \"https://www.reddit.com/r/SwapiOfficial/\"\n",
      "    },\n",
      "    \"support\": {\n",
      "        \"contact\": \"admin@swapi.tech\",\n",
      "        \"donate\": \"https://www.paypal.com/donate/?business=2HGAUVTWGR5T2&no_recurring=0&item_name=Support+Swapi+and+keep+the+galaxy%27s+data+free%21+Your+donation+fuels+open-source+innovation+and+helps+us+grow.+Thank+you%21+%F0%9F%9A%80&currency_code=USD\",\n",
      "        \"partnerDiscounts\": {\n",
      "            \"heartMath\": {\n",
      "                \"details\": \"Looking for some Jedi-like inner peace? Take 10% off your heart-brain coherence tools from the HeartMath Institute!\",\n",
      "                \"link\": \"https://www.heartmath.com/ryanc\"\n",
      "            },\n",
      "            \"saberMasters\": {\n",
      "                \"details\": \"Use this link to automatically get $10 off your purchase!\",\n",
      "                \"link\": \"https://www.swapi.tech/partner-discount/sabermasters-swapi\"\n",
      "            }\n",
      "        }\n",
      "    },\n",
      "    \"timestamp\": \"2025-08-06T15:04:49.740Z\"\n",
      "}\n"
     ]
    }
   ],
   "source": [
    "# Storing the JSON response within a variable\n",
    "data = response.json()\n",
    "# Use json.dumps to print the json stored in variable\n",
    "print(json.dumps(data, indent=4, sort_keys=True))\n"
   ]
  },
  {
   "cell_type": "code",
   "execution_count": 22,
   "metadata": {
    "collapsed": true
   },
   "outputs": [
    {
     "name": "stdout",
     "output_type": "stream",
     "text": [
      "Darth Vader\n"
     ]
    }
   ],
   "source": [
    "# Print the name of the character retrieved\n",
    "# YOUR CODE HERE\n",
    "print(data[\"result\"][\"properties\"][\"name\"])"
   ]
  },
  {
   "cell_type": "code",
   "execution_count": 23,
   "metadata": {
    "collapsed": true
   },
   "outputs": [],
   "source": [
    "# Print the number of films that they were in (hint: use len())\n",
    "# YOUR CODE HERE\n",
    "#BROKEN\n",
    "#print(len(data[\"result\"][\"properties\"][\"films\"]))\n"
   ]
  },
  {
   "cell_type": "code",
   "execution_count": null,
   "metadata": {
    "collapsed": true
   },
   "outputs": [],
   "source": [
    "# Request the starships URI found in the starships property of the\n",
    "# previously retreived json, then use the response to figure out what this \n",
    "# character's first starship was\n",
    "# Also no starships\n"
   ]
  },
  {
   "cell_type": "code",
   "execution_count": null,
   "metadata": {},
   "outputs": [],
   "source": [
    "# Print the name of the character's first starship\n",
    "# Also no starships"
   ]
  },
  {
   "cell_type": "code",
   "execution_count": 24,
   "metadata": {},
   "outputs": [
    {
     "ename": "SyntaxError",
     "evalue": "invalid syntax (1012416104.py, line 2)",
     "output_type": "error",
     "traceback": [
      "  \u001b[36mCell\u001b[39m\u001b[36m \u001b[39m\u001b[32mIn[24]\u001b[39m\u001b[32m, line 2\u001b[39m\n\u001b[31m    \u001b[39m\u001b[31m.then(res => res.json())\u001b[39m\n    ^\n\u001b[31mSyntaxError\u001b[39m\u001b[31m:\u001b[39m invalid syntax\n"
     ]
    }
   ],
   "source": [
    "# fetch(\"https://www.swapi.tech/api/people/1\")\n",
    "# .then(res => res.json())\n",
    "# .then(data => console.log(data))\n",
    "# .catch(err => console.error(err))"
   ]
  }
 ],
 "metadata": {
  "kernelspec": {
   "display_name": "Python 3",
   "language": "python",
   "name": "python3"
  },
  "language_info": {
   "codemirror_mode": {
    "name": "ipython",
    "version": 3
   },
   "file_extension": ".py",
   "mimetype": "text/x-python",
   "name": "python",
   "nbconvert_exporter": "python",
   "pygments_lexer": "ipython3",
   "version": "3.12.1"
  },
  "varInspector": {
   "cols": {
    "lenName": 16,
    "lenType": 16,
    "lenVar": 40
   },
   "kernels_config": {
    "python": {
     "delete_cmd_postfix": "",
     "delete_cmd_prefix": "del ",
     "library": "var_list.py",
     "varRefreshCmd": "print(var_dic_list())"
    },
    "r": {
     "delete_cmd_postfix": ") ",
     "delete_cmd_prefix": "rm(",
     "library": "var_list.r",
     "varRefreshCmd": "cat(var_dic_list()) "
    }
   },
   "types_to_exclude": [
    "module",
    "function",
    "builtin_function_or_method",
    "instance",
    "_Feature"
   ],
   "window_display": false
  }
 },
 "nbformat": 4,
 "nbformat_minor": 2
}
