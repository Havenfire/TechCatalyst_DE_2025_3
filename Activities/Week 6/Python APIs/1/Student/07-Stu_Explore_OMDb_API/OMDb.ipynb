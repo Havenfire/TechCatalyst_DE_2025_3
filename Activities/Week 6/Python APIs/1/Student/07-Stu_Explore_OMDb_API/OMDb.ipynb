{
 "cells": [
  {
   "cell_type": "code",
   "execution_count": 1,
   "id": "c8ecc288",
   "metadata": {},
   "outputs": [],
   "source": [
    "# Dependencies\n",
    "import requests\n",
    "import json"
   ]
  },
  {
   "cell_type": "code",
   "execution_count": 11,
   "id": "d7e8ebd5",
   "metadata": {},
   "outputs": [
    {
     "name": "stdout",
     "output_type": "stream",
     "text": [
      "http://www.omdbapi.com/?t=Interstellar&apikey=60a41e5e\n"
     ]
    }
   ],
   "source": [
    "# Base URL for GET requests to retrieve number/date facts\n",
    "api_key = \"&apikey=60a41e5e\"\n",
    "base_url = \"http://www.omdbapi.com/\"\n",
    "query = \"?t=Interstellar\"\n",
    "full_url = base_url + query + api_key\n",
    "print(full_url)"
   ]
  },
  {
   "cell_type": "code",
   "execution_count": 16,
   "id": "59fbdd7e",
   "metadata": {},
   "outputs": [
    {
     "name": "stdout",
     "output_type": "stream",
     "text": [
      "{\n",
      "    \"Actors\": \"Matthew McConaughey, Anne Hathaway, Jessica Chastain\",\n",
      "    \"Awards\": \"Won 1 Oscar. 44 wins & 148 nominations total\",\n",
      "    \"BoxOffice\": \"$203,227,580\",\n",
      "    \"Country\": \"United States, United Kingdom, Canada\",\n",
      "    \"DVD\": \"N/A\",\n",
      "    \"Director\": \"Christopher Nolan\",\n",
      "    \"Genre\": \"Adventure, Drama, Sci-Fi\",\n",
      "    \"Language\": \"English\",\n",
      "    \"Metascore\": \"74\",\n",
      "    \"Plot\": \"When Earth becomes uninhabitable in the future, a farmer and ex-NASA pilot, Joseph Cooper, is tasked to pilot a spacecraft, along with a team of researchers, to find a new planet for humans.\",\n",
      "    \"Poster\": \"https://m.media-amazon.com/images/M/MV5BYzdjMDAxZGItMjI2My00ODA1LTlkNzItOWFjMDU5ZDJlYWY3XkEyXkFqcGc@._V1_SX300.jpg\",\n",
      "    \"Production\": \"N/A\",\n",
      "    \"Rated\": \"PG-13\",\n",
      "    \"Ratings\": [\n",
      "        {\n",
      "            \"Source\": \"Internet Movie Database\",\n",
      "            \"Value\": \"8.7/10\"\n",
      "        },\n",
      "        {\n",
      "            \"Source\": \"Rotten Tomatoes\",\n",
      "            \"Value\": \"73%\"\n",
      "        },\n",
      "        {\n",
      "            \"Source\": \"Metacritic\",\n",
      "            \"Value\": \"74/100\"\n",
      "        }\n",
      "    ],\n",
      "    \"Released\": \"07 Nov 2014\",\n",
      "    \"Response\": \"True\",\n",
      "    \"Runtime\": \"169 min\",\n",
      "    \"Title\": \"Interstellar\",\n",
      "    \"Type\": \"movie\",\n",
      "    \"Website\": \"N/A\",\n",
      "    \"Writer\": \"Jonathan Nolan, Christopher Nolan\",\n",
      "    \"Year\": \"2014\",\n",
      "    \"imdbID\": \"tt0816692\",\n",
      "    \"imdbRating\": \"8.7\",\n",
      "    \"imdbVotes\": \"2,375,214\"\n",
      "}\n"
     ]
    }
   ],
   "source": [
    "response = requests.get(full_url)\n",
    "data = response.json()\n",
    "print(json.dumps(data, indent=4, sort_keys=True))"
   ]
  },
  {
   "cell_type": "code",
   "execution_count": null,
   "id": "b2558b2d",
   "metadata": {},
   "outputs": [],
   "source": []
  }
 ],
 "metadata": {
  "kernelspec": {
   "display_name": "Python 3",
   "language": "python",
   "name": "python3"
  },
  "language_info": {
   "codemirror_mode": {
    "name": "ipython",
    "version": 3
   },
   "file_extension": ".py",
   "mimetype": "text/x-python",
   "name": "python",
   "nbconvert_exporter": "python",
   "pygments_lexer": "ipython3",
   "version": "3.12.1"
  }
 },
 "nbformat": 4,
 "nbformat_minor": 5
}
