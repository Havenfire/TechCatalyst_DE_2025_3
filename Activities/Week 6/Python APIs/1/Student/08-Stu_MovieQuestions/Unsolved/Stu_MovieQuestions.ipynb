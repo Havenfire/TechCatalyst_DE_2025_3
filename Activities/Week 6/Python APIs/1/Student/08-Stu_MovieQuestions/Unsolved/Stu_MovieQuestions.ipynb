{
 "cells": [
  {
   "cell_type": "code",
   "execution_count": 2,
   "metadata": {},
   "outputs": [],
   "source": [
    "# Dependencies\n",
    "import requests\n",
    "import json\n",
    "from config import api_key\n",
    "\n",
    "url = f\"http://www.omdbapi.com/?apikey={api_key}&t=\""
   ]
  },
  {
   "cell_type": "code",
   "execution_count": 7,
   "metadata": {},
   "outputs": [
    {
     "name": "stdout",
     "output_type": "stream",
     "text": [
      "\"James Cameron\"\n"
     ]
    }
   ],
   "source": [
    "# Who was the director of the movie Aliens?\n",
    "full_url = url + \"Aliens\"\n",
    "response = requests.get(full_url)\n",
    "data = response.json()\n",
    "print(json.dumps(data[\"Director\"], indent=4, sort_keys=True))\n"
   ]
  },
  {
   "cell_type": "code",
   "execution_count": 9,
   "metadata": {
    "scrolled": true
   },
   "outputs": [
    {
     "name": "stdout",
     "output_type": "stream",
     "text": [
      "\"2000\"\n"
     ]
    }
   ],
   "source": [
    "# What was the movie Gladiator rated?\n",
    "full_url = url + \"Gladiator\"\n",
    "response = requests.get(full_url)\n",
    "data = response.json()\n",
    "print(json.dumps(data[\"Year\"], indent=4, sort_keys=True))\n"
   ]
  },
  {
   "cell_type": "code",
   "execution_count": 10,
   "metadata": {},
   "outputs": [
    {
     "name": "stdout",
     "output_type": "stream",
     "text": [
      "\"2004\"\n"
     ]
    }
   ],
   "source": [
    "# What year was 50 First Dates released?\n",
    "full_url = url + \"50 First Dates\"\n",
    "response = requests.get(full_url)\n",
    "data = response.json()\n",
    "print(json.dumps(data[\"Year\"], indent=4, sort_keys=True))\n"
   ]
  },
  {
   "cell_type": "code",
   "execution_count": 11,
   "metadata": {
    "scrolled": true
   },
   "outputs": [
    {
     "name": "stdout",
     "output_type": "stream",
     "text": [
      "\"Jared Bush, Ron Clements, John Musker\"\n"
     ]
    }
   ],
   "source": [
    "# Who wrote Moana?\n",
    "full_url = url + \"Moana\"\n",
    "response = requests.get(full_url)\n",
    "data = response.json()\n",
    "print(json.dumps(data[\"Writer\"], indent=4, sort_keys=True))"
   ]
  },
  {
   "cell_type": "code",
   "execution_count": 12,
   "metadata": {
    "scrolled": true
   },
   "outputs": [
    {
     "name": "stdout",
     "output_type": "stream",
     "text": [
      "\"In a city of humanoid animals, a hustling theater impresario's attempt to save his theater with a singing competition becomes grander than he anticipates even as its finalists find that their lives will never be the same.\"\n"
     ]
    }
   ],
   "source": [
    "# What was the plot of the movie Sing?\n",
    "full_url = url + \"Sing\"\n",
    "response = requests.get(full_url)\n",
    "data = response.json()\n",
    "print(json.dumps(data[\"Plot\"], indent=4, sort_keys=True))"
   ]
  }
 ],
 "metadata": {
  "kernelspec": {
   "display_name": "Python 3",
   "language": "python",
   "name": "python3"
  },
  "language_info": {
   "codemirror_mode": {
    "name": "ipython",
    "version": 3
   },
   "file_extension": ".py",
   "mimetype": "text/x-python",
   "name": "python",
   "nbconvert_exporter": "python",
   "pygments_lexer": "ipython3",
   "version": "3.12.1"
  },
  "varInspector": {
   "cols": {
    "lenName": 16,
    "lenType": 16,
    "lenVar": 40
   },
   "kernels_config": {
    "python": {
     "delete_cmd_postfix": "",
     "delete_cmd_prefix": "del ",
     "library": "var_list.py",
     "varRefreshCmd": "print(var_dic_list())"
    },
    "r": {
     "delete_cmd_postfix": ") ",
     "delete_cmd_prefix": "rm(",
     "library": "var_list.r",
     "varRefreshCmd": "cat(var_dic_list()) "
    }
   },
   "types_to_exclude": [
    "module",
    "function",
    "builtin_function_or_method",
    "instance",
    "_Feature"
   ],
   "window_display": false
  }
 },
 "nbformat": 4,
 "nbformat_minor": 2
}
